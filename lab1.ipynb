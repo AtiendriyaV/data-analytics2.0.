{
  "nbformat": 4,
  "nbformat_minor": 0,
  "metadata": {
    "colab": {
      "provenance": []
    },
    "kernelspec": {
      "name": "python3",
      "display_name": "Python 3"
    },
    "language_info": {
      "name": "python"
    }
  },
  "cells": [
    {
      "cell_type": "code",
      "execution_count": 1,
      "metadata": {
        "id": "uSEoL8flHpLe"
      },
      "outputs": [],
      "source": [
        "import pandas as pd\n",
        "import numpy as np"
      ]
    },
    {
      "cell_type": "code",
      "source": [
        "ds = pd.read_csv('cars.csv')\n",
        "ds.head()"
      ],
      "metadata": {
        "colab": {
          "base_uri": "https://localhost:8080/",
          "height": 206
        },
        "id": "YTSyHfbIJWoY",
        "outputId": "84964ef6-ead3-4c7f-ef5a-8a273d2a1849"
      },
      "execution_count": 2,
      "outputs": [
        {
          "output_type": "execute_result",
          "data": {
            "text/plain": [
              "   age  gender  miles   debt  income  sales\n",
              "0   28       0     23      0    4099    620\n",
              "1   26       0     27      0    2677   1792\n",
              "2   30       1     58  41576    6215  27754\n",
              "3   26       1     25  43172    7626  28256\n",
              "4   20       1     17   6979    8071   4438"
            ],
            "text/html": [
              "\n",
              "  <div id=\"df-be648ebe-882c-4b95-8249-3ee984dfd7ec\">\n",
              "    <div class=\"colab-df-container\">\n",
              "      <div>\n",
              "<style scoped>\n",
              "    .dataframe tbody tr th:only-of-type {\n",
              "        vertical-align: middle;\n",
              "    }\n",
              "\n",
              "    .dataframe tbody tr th {\n",
              "        vertical-align: top;\n",
              "    }\n",
              "\n",
              "    .dataframe thead th {\n",
              "        text-align: right;\n",
              "    }\n",
              "</style>\n",
              "<table border=\"1\" class=\"dataframe\">\n",
              "  <thead>\n",
              "    <tr style=\"text-align: right;\">\n",
              "      <th></th>\n",
              "      <th>age</th>\n",
              "      <th>gender</th>\n",
              "      <th>miles</th>\n",
              "      <th>debt</th>\n",
              "      <th>income</th>\n",
              "      <th>sales</th>\n",
              "    </tr>\n",
              "  </thead>\n",
              "  <tbody>\n",
              "    <tr>\n",
              "      <th>0</th>\n",
              "      <td>28</td>\n",
              "      <td>0</td>\n",
              "      <td>23</td>\n",
              "      <td>0</td>\n",
              "      <td>4099</td>\n",
              "      <td>620</td>\n",
              "    </tr>\n",
              "    <tr>\n",
              "      <th>1</th>\n",
              "      <td>26</td>\n",
              "      <td>0</td>\n",
              "      <td>27</td>\n",
              "      <td>0</td>\n",
              "      <td>2677</td>\n",
              "      <td>1792</td>\n",
              "    </tr>\n",
              "    <tr>\n",
              "      <th>2</th>\n",
              "      <td>30</td>\n",
              "      <td>1</td>\n",
              "      <td>58</td>\n",
              "      <td>41576</td>\n",
              "      <td>6215</td>\n",
              "      <td>27754</td>\n",
              "    </tr>\n",
              "    <tr>\n",
              "      <th>3</th>\n",
              "      <td>26</td>\n",
              "      <td>1</td>\n",
              "      <td>25</td>\n",
              "      <td>43172</td>\n",
              "      <td>7626</td>\n",
              "      <td>28256</td>\n",
              "    </tr>\n",
              "    <tr>\n",
              "      <th>4</th>\n",
              "      <td>20</td>\n",
              "      <td>1</td>\n",
              "      <td>17</td>\n",
              "      <td>6979</td>\n",
              "      <td>8071</td>\n",
              "      <td>4438</td>\n",
              "    </tr>\n",
              "  </tbody>\n",
              "</table>\n",
              "</div>\n",
              "      <button class=\"colab-df-convert\" onclick=\"convertToInteractive('df-be648ebe-882c-4b95-8249-3ee984dfd7ec')\"\n",
              "              title=\"Convert this dataframe to an interactive table.\"\n",
              "              style=\"display:none;\">\n",
              "        \n",
              "  <svg xmlns=\"http://www.w3.org/2000/svg\" height=\"24px\"viewBox=\"0 0 24 24\"\n",
              "       width=\"24px\">\n",
              "    <path d=\"M0 0h24v24H0V0z\" fill=\"none\"/>\n",
              "    <path d=\"M18.56 5.44l.94 2.06.94-2.06 2.06-.94-2.06-.94-.94-2.06-.94 2.06-2.06.94zm-11 1L8.5 8.5l.94-2.06 2.06-.94-2.06-.94L8.5 2.5l-.94 2.06-2.06.94zm10 10l.94 2.06.94-2.06 2.06-.94-2.06-.94-.94-2.06-.94 2.06-2.06.94z\"/><path d=\"M17.41 7.96l-1.37-1.37c-.4-.4-.92-.59-1.43-.59-.52 0-1.04.2-1.43.59L10.3 9.45l-7.72 7.72c-.78.78-.78 2.05 0 2.83L4 21.41c.39.39.9.59 1.41.59.51 0 1.02-.2 1.41-.59l7.78-7.78 2.81-2.81c.8-.78.8-2.07 0-2.86zM5.41 20L4 18.59l7.72-7.72 1.47 1.35L5.41 20z\"/>\n",
              "  </svg>\n",
              "      </button>\n",
              "      \n",
              "  <style>\n",
              "    .colab-df-container {\n",
              "      display:flex;\n",
              "      flex-wrap:wrap;\n",
              "      gap: 12px;\n",
              "    }\n",
              "\n",
              "    .colab-df-convert {\n",
              "      background-color: #E8F0FE;\n",
              "      border: none;\n",
              "      border-radius: 50%;\n",
              "      cursor: pointer;\n",
              "      display: none;\n",
              "      fill: #1967D2;\n",
              "      height: 32px;\n",
              "      padding: 0 0 0 0;\n",
              "      width: 32px;\n",
              "    }\n",
              "\n",
              "    .colab-df-convert:hover {\n",
              "      background-color: #E2EBFA;\n",
              "      box-shadow: 0px 1px 2px rgba(60, 64, 67, 0.3), 0px 1px 3px 1px rgba(60, 64, 67, 0.15);\n",
              "      fill: #174EA6;\n",
              "    }\n",
              "\n",
              "    [theme=dark] .colab-df-convert {\n",
              "      background-color: #3B4455;\n",
              "      fill: #D2E3FC;\n",
              "    }\n",
              "\n",
              "    [theme=dark] .colab-df-convert:hover {\n",
              "      background-color: #434B5C;\n",
              "      box-shadow: 0px 1px 3px 1px rgba(0, 0, 0, 0.15);\n",
              "      filter: drop-shadow(0px 1px 2px rgba(0, 0, 0, 0.3));\n",
              "      fill: #FFFFFF;\n",
              "    }\n",
              "  </style>\n",
              "\n",
              "      <script>\n",
              "        const buttonEl =\n",
              "          document.querySelector('#df-be648ebe-882c-4b95-8249-3ee984dfd7ec button.colab-df-convert');\n",
              "        buttonEl.style.display =\n",
              "          google.colab.kernel.accessAllowed ? 'block' : 'none';\n",
              "\n",
              "        async function convertToInteractive(key) {\n",
              "          const element = document.querySelector('#df-be648ebe-882c-4b95-8249-3ee984dfd7ec');\n",
              "          const dataTable =\n",
              "            await google.colab.kernel.invokeFunction('convertToInteractive',\n",
              "                                                     [key], {});\n",
              "          if (!dataTable) return;\n",
              "\n",
              "          const docLinkHtml = 'Like what you see? Visit the ' +\n",
              "            '<a target=\"_blank\" href=https://colab.research.google.com/notebooks/data_table.ipynb>data table notebook</a>'\n",
              "            + ' to learn more about interactive tables.';\n",
              "          element.innerHTML = '';\n",
              "          dataTable['output_type'] = 'display_data';\n",
              "          await google.colab.output.renderOutput(dataTable, element);\n",
              "          const docLink = document.createElement('div');\n",
              "          docLink.innerHTML = docLinkHtml;\n",
              "          element.appendChild(docLink);\n",
              "        }\n",
              "      </script>\n",
              "    </div>\n",
              "  </div>\n",
              "  "
            ]
          },
          "metadata": {},
          "execution_count": 2
        }
      ]
    },
    {
      "cell_type": "markdown",
      "source": [
        "#mean"
      ],
      "metadata": {
        "id": "phz83kCKMxnK"
      }
    },
    {
      "cell_type": "code",
      "source": [
        "mn=ds['miles'].mean()\n",
        "print(\"Mean is\",mn)"
      ],
      "metadata": {
        "colab": {
          "base_uri": "https://localhost:8080/"
        },
        "id": "B9SadutgJ4tv",
        "outputId": "48363e12-6d3a-43a7-d98b-37bb992de401"
      },
      "execution_count": 3,
      "outputs": [
        {
          "output_type": "stream",
          "name": "stdout",
          "text": [
            "Mean is 27.70404984423676\n"
          ]
        }
      ]
    },
    {
      "cell_type": "markdown",
      "source": [
        "#mode"
      ],
      "metadata": {
        "id": "vDxmNk8lM2gj"
      }
    },
    {
      "cell_type": "code",
      "source": [
        "from statistics import mode\n",
        "gd = mode(ds['gender'])\n",
        "print(\"Mode is \",gd)"
      ],
      "metadata": {
        "colab": {
          "base_uri": "https://localhost:8080/"
        },
        "id": "aIkuZPP5KDqL",
        "outputId": "0707540b-e643-4e51-9054-a153afbc8750"
      },
      "execution_count": 4,
      "outputs": [
        {
          "output_type": "stream",
          "name": "stdout",
          "text": [
            "Mode is  1\n"
          ]
        }
      ]
    },
    {
      "cell_type": "markdown",
      "source": [
        "#range"
      ],
      "metadata": {
        "id": "iGDP8RLgM5Yi"
      }
    },
    {
      "cell_type": "code",
      "source": [
        "mx=max(ds['miles'])\n",
        "mn=min(ds['miles'])\n",
        "rg=mx-mn\n",
        "print('Range  is ' , rg )"
      ],
      "metadata": {
        "colab": {
          "base_uri": "https://localhost:8080/"
        },
        "id": "V0I1gYKsKSLN",
        "outputId": "d4e07265-1c74-427f-ed64-05817d4032ea"
      },
      "execution_count": 5,
      "outputs": [
        {
          "output_type": "stream",
          "name": "stdout",
          "text": [
            "Range  is  87\n"
          ]
        }
      ]
    },
    {
      "cell_type": "markdown",
      "source": [
        "#varience"
      ],
      "metadata": {
        "id": "evYkGMK2M7fJ"
      }
    },
    {
      "cell_type": "code",
      "source": [
        "var = ds['age'].var()\n",
        "print(\"variance\",var)"
      ],
      "metadata": {
        "colab": {
          "base_uri": "https://localhost:8080/"
        },
        "id": "eNxLZM9KKkKp",
        "outputId": "3fd0554f-74db-4b3c-a423-38887bc9b950"
      },
      "execution_count": 6,
      "outputs": [
        {
          "output_type": "stream",
          "name": "stdout",
          "text": [
            "variance 151.06470165348668\n"
          ]
        }
      ]
    },
    {
      "cell_type": "markdown",
      "source": [
        "#standard deviation"
      ],
      "metadata": {
        "id": "UxuqypykM-qV"
      }
    },
    {
      "cell_type": "code",
      "source": [
        "sd = ds['miles'].std()\n",
        "print(\"standard deviation is\",sd)"
      ],
      "metadata": {
        "colab": {
          "base_uri": "https://localhost:8080/"
        },
        "id": "EWtTyhr4K-Cy",
        "outputId": "a76d3ed4-95aa-442c-f2c9-85e4556ff742"
      },
      "execution_count": 7,
      "outputs": [
        {
          "output_type": "stream",
          "name": "stdout",
          "text": [
            "standard deviation is 13.37818119261587\n"
          ]
        }
      ]
    },
    {
      "cell_type": "markdown",
      "source": [
        "#percentile value"
      ],
      "metadata": {
        "id": "fZUqlWS6NNwG"
      }
    },
    {
      "cell_type": "code",
      "source": [
        "q1=np.percentile(ds['miles'],25)\n",
        "q2=np.percentile(ds['miles'],50)\n",
        "q3=np.percentile(ds['miles'],75)"
      ],
      "metadata": {
        "id": "K7DvOzp6NKVg"
      },
      "execution_count": 8,
      "outputs": []
    },
    {
      "cell_type": "code",
      "source": [
        "print(\"First Quartile:\",q1)\n",
        "print(\"First Quartile:\",q2)\n",
        "print(\"First Quartile:\",q3)"
      ],
      "metadata": {
        "colab": {
          "base_uri": "https://localhost:8080/"
        },
        "id": "Dzs04oBcN0Kq",
        "outputId": "bab2ca8a-d2f4-4446-f9b9-0b7bed9343ab"
      },
      "execution_count": 9,
      "outputs": [
        {
          "output_type": "stream",
          "name": "stdout",
          "text": [
            "First Quartile: 20.0\n",
            "First Quartile: 25.0\n",
            "First Quartile: 32.0\n"
          ]
        }
      ]
    },
    {
      "cell_type": "markdown",
      "source": [
        "#Coefficient of variance"
      ],
      "metadata": {
        "id": "76aCCVDTOG-U"
      }
    },
    {
      "cell_type": "code",
      "source": [
        "cov=sd/mn\n",
        "print(\"Coefficient of variance is:\",cov)"
      ],
      "metadata": {
        "colab": {
          "base_uri": "https://localhost:8080/"
        },
        "id": "joA71UifOFhb",
        "outputId": "634e106c-df4a-474b-ff7f-2e111af80a8a"
      },
      "execution_count": 10,
      "outputs": [
        {
          "output_type": "stream",
          "name": "stdout",
          "text": [
            "Coefficient of variance is: 1.337818119261587\n"
          ]
        }
      ]
    },
    {
      "cell_type": "markdown",
      "source": [
        "#skewness"
      ],
      "metadata": {
        "id": "yxVXko3vOWe_"
      }
    },
    {
      "cell_type": "code",
      "source": [
        "from scipy.stats import skew\n",
        "sn=skew(ds['miles'])\n",
        "print(\"Skewness is:\",sn)"
      ],
      "metadata": {
        "colab": {
          "base_uri": "https://localhost:8080/"
        },
        "id": "KCvGwkutObud",
        "outputId": "9887a633-c469-47be-de11-bea8cf333b52"
      },
      "execution_count": 11,
      "outputs": [
        {
          "output_type": "stream",
          "name": "stdout",
          "text": [
            "Skewness is: 2.1770830473784537\n"
          ]
        }
      ]
    },
    {
      "cell_type": "markdown",
      "source": [
        "#Kurtosis"
      ],
      "metadata": {
        "id": "iwNIjzzMOmtY"
      }
    },
    {
      "cell_type": "code",
      "source": [
        "from scipy.stats import kurtosis\n",
        "kt = kurtosis (ds['miles'])\n",
        "print(\"Kurtosis is:\",kt)"
      ],
      "metadata": {
        "colab": {
          "base_uri": "https://localhost:8080/"
        },
        "id": "AYnm5osTOjKM",
        "outputId": "df6e49cc-3871-420d-df6a-4fa0c6751101"
      },
      "execution_count": 12,
      "outputs": [
        {
          "output_type": "stream",
          "name": "stdout",
          "text": [
            "Kurtosis is: 6.977239746669079\n"
          ]
        }
      ]
    },
    {
      "cell_type": "markdown",
      "source": [
        "#correlation of data"
      ],
      "metadata": {
        "id": "BTWN9V7cSBoD"
      }
    },
    {
      "cell_type": "code",
      "source": [
        "corelate=ds.corr()\n",
        "print(\"correlation of data is :\\n\\n\",corelate)"
      ],
      "metadata": {
        "colab": {
          "base_uri": "https://localhost:8080/"
        },
        "id": "kY4m5of6SGQo",
        "outputId": "76e4d313-3753-4e05-99a6-61c1c7f33583"
      },
      "execution_count": 13,
      "outputs": [
        {
          "output_type": "stream",
          "name": "stdout",
          "text": [
            "correlation of data is :\n",
            "\n",
            "              age    gender     miles      debt    income     sales\n",
            "age     1.000000 -0.000702  0.232399  0.218896  0.239644  0.352609\n",
            "gender -0.000702  1.000000 -0.031355 -0.033181 -0.034317 -0.036350\n",
            "miles   0.232399 -0.031355  1.000000  0.544791  0.422141  0.636676\n",
            "debt    0.218896 -0.033181  0.544791  1.000000  0.491790  0.835541\n",
            "income  0.239644 -0.034317  0.422141  0.491790  1.000000  0.674685\n",
            "sales   0.352609 -0.036350  0.636676  0.835541  0.674685  1.000000\n"
          ]
        }
      ]
    },
    {
      "cell_type": "markdown",
      "source": [
        "#sum of square"
      ],
      "metadata": {
        "id": "h8MRy_DgUY9e"
      }
    },
    {
      "cell_type": "code",
      "source": [
        "sos=np.sum((ds['miles']-mn)**2)\n",
        "[print(\"sum of square is:\",sos)]"
      ],
      "metadata": {
        "colab": {
          "base_uri": "https://localhost:8080/"
        },
        "id": "_u1ip4N3SPjx",
        "outputId": "f8bec16f-8a43-413d-ef4a-2650fc238862"
      },
      "execution_count": 14,
      "outputs": [
        {
          "output_type": "stream",
          "name": "stdout",
          "text": [
            "sum of square is: 474011\n"
          ]
        },
        {
          "output_type": "execute_result",
          "data": {
            "text/plain": [
              "[None]"
            ]
          },
          "metadata": {},
          "execution_count": 14
        }
      ]
    },
    {
      "cell_type": "markdown",
      "source": [
        "#z-score"
      ],
      "metadata": {
        "id": "6HWZcFm0kV2f"
      }
    },
    {
      "cell_type": "code",
      "source": [
        "zs = ((ds['miles'])-mn)/sd\n",
        "print(zs)"
      ],
      "metadata": {
        "colab": {
          "base_uri": "https://localhost:8080/"
        },
        "id": "KXv509cSUoAL",
        "outputId": "35e45167-4998-42ee-f534-020a148ddfe6"
      },
      "execution_count": 21,
      "outputs": [
        {
          "output_type": "stream",
          "name": "stdout",
          "text": [
            "0      0.971731\n",
            "1      1.270726\n",
            "2      3.587932\n",
            "3      1.121229\n",
            "4      0.523240\n",
            "         ...   \n",
            "958    0.074749\n",
            "959    0.971731\n",
            "960    1.345474\n",
            "961    1.420223\n",
            "962    0.373743\n",
            "Name: miles, Length: 963, dtype: float64\n"
          ]
        }
      ]
    }
  ]
}